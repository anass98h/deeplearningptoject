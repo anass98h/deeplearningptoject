{
 "cells": [
  {
   "cell_type": "markdown",
   "id": "2703e8956a3a38ea",
   "metadata": {},
   "source": [
    "# Week 9"
   ]
  },
  {
   "cell_type": "markdown",
   "id": "73fe808740681d5f",
   "metadata": {},
   "source": [
    "### Import libraries"
   ]
  },
  {
   "cell_type": "code",
   "execution_count": 12,
   "id": "d3f5c8836e5bb9d8",
   "metadata": {
    "ExecuteTime": {
     "end_time": "2025-04-10T10:28:48.866916Z",
     "start_time": "2025-04-10T10:28:48.864497Z"
    }
   },
   "outputs": [],
   "source": [
    "import os\n",
    "import numpy as np\n",
    "import pandas as pd\n",
    "import tensorflow as tf\n",
    "from keras import layers, models, Input\n",
    "import matplotlib.pyplot as plt\n",
    "from sklearn.model_selection import train_test_split"
   ]
  },
  {
   "cell_type": "markdown",
   "id": "1670cb85db6600e8",
   "metadata": {},
   "source": [
    "### Load the data"
   ]
  },
  {
   "cell_type": "code",
   "execution_count": null,
   "id": "d1c59ea603886a8a",
   "metadata": {
    "ExecuteTime": {
     "end_time": "2025-04-10T10:20:34.288824Z",
     "start_time": "2025-04-10T10:20:33.989954Z"
    }
   },
   "outputs": [
    {
     "name": "stdout",
     "output_type": "stream",
     "text": [
      "Successfully loaded A100_kinect.csv\n",
      "Successfully loaded A11_kinect.csv\n",
      "Successfully loaded A26_kinect.csv\n",
      "Successfully loaded A137_kinect.csv\n",
      "Successfully loaded A73_kinect.csv\n",
      "Successfully loaded B9_kinect.csv\n",
      "Successfully loaded A155_kinect.csv\n",
      "Successfully loaded A44_kinect.csv\n",
      "Successfully loaded A90_kinect.csv\n",
      "Successfully loaded A149_kinect.csv\n",
      "Successfully loaded A58_kinect.csv\n",
      "Successfully loaded B4_kinect.csv\n",
      "Successfully loaded A158_kinect.csv\n",
      "Successfully loaded A3_kinect.csv\n",
      "Successfully loaded A49_kinect.csv\n",
      "Successfully loaded B17_kinect.csv\n",
      "Successfully loaded B20_kinect.csv\n",
      "Successfully loaded A81_kinect.csv\n",
      "Successfully loaded A144_kinect.csv\n",
      "Successfully loaded A55_kinect.csv\n",
      "Successfully loaded A62_kinect.csv\n",
      "Successfully loaded A37_kinect.csv\n",
      "Successfully loaded A126_kinect.csv\n",
      "Successfully loaded A111_kinect.csv\n",
      "Successfully loaded A84_kinect.csv\n",
      "Successfully loaded B12_kinect.csv\n",
      "Successfully loaded A6_kinect.csv\n",
      "Successfully loaded B1_kinect.csv\n",
      "Successfully loaded A108_kinect.csv\n",
      "Successfully loaded A19_kinect.csv\n",
      "Successfully loaded A98_kinect.csv\n",
      "Successfully loaded A67_kinect.csv\n",
      "Successfully loaded A141_kinect.csv\n",
      "Successfully loaded A50_kinect.csv\n",
      "Successfully loaded A114_kinect.csv\n",
      "Successfully loaded A32_kinect.csv\n",
      "Successfully loaded A123_kinect.csv\n",
      "Successfully loaded A23_kinect.csv\n",
      "Successfully loaded A132_kinect.csv\n",
      "Successfully loaded A105_kinect.csv\n",
      "Successfully loaded A14_kinect.csv\n",
      "Successfully loaded A150_kinect.csv\n",
      "Successfully loaded A41_kinect.csv\n",
      "Successfully loaded A76_kinect.csv\n",
      "Successfully loaded A89_kinect.csv\n",
      "Successfully loaded A119_kinect.csv\n",
      "Successfully loaded A95_kinect.csv\n",
      "Successfully loaded A92_kinect.csv\n",
      "Successfully loaded A129_kinect.csv\n",
      "Successfully loaded A38_kinect.csv\n",
      "Successfully loaded A135_kinect.csv\n",
      "Successfully loaded A24_kinect.csv\n",
      "Successfully loaded A13_kinect.csv\n",
      "Successfully loaded A102_kinect.csv\n",
      "Successfully loaded A46_kinect.csv\n",
      "Successfully loaded A157_kinect.csv\n",
      "Successfully loaded A71_kinect.csv\n",
      "Successfully loaded B18_kinect.csv\n",
      "Successfully loaded A57_kinect.csv\n",
      "Successfully loaded A146_kinect.csv\n",
      "Successfully loaded A113_kinect.csv\n",
      "Successfully loaded A124_kinect.csv\n",
      "Successfully loaded A35_kinect.csv\n",
      "Successfully loaded A1_kinect.csv\n",
      "Successfully loaded B6_kinect.csv\n",
      "Successfully loaded B22_kinect.csv\n",
      "Successfully loaded B15_kinect.csv\n",
      "Successfully loaded A138_kinect.csv\n",
      "Successfully loaded A29_kinect.csv\n",
      "Successfully loaded A83_kinect.csv\n",
      "Successfully loaded A52_kinect.csv\n",
      "Successfully loaded A143_kinect.csv\n",
      "Successfully loaded A65_kinect.csv\n",
      "Successfully loaded A121_kinect.csv\n",
      "Successfully loaded A30_kinect.csv\n",
      "Successfully loaded A116_kinect.csv\n",
      "Successfully loaded A86_kinect.csv\n",
      "Successfully loaded B10_kinect.csv\n",
      "Successfully loaded A79_kinect.csv\n",
      "Successfully loaded B3_kinect.csv\n",
      "Successfully loaded A4_kinect.csv\n",
      "Successfully loaded A68_kinect.csv\n",
      "Successfully loaded A97_kinect.csv\n",
      "Successfully loaded A16_kinect.csv\n",
      "Successfully loaded A130_kinect.csv\n",
      "Successfully loaded A21_kinect.csv\n",
      "Successfully loaded A74_kinect.csv\n",
      "Successfully loaded A9_kinect.csv\n",
      "Successfully loaded A43_kinect.csv\n",
      "Successfully loaded A152_kinect.csv\n",
      "Successfully loaded B13_kinect.csv\n",
      "Successfully loaded A7_kinect.csv\n",
      "Successfully loaded A18_kinect.csv\n",
      "Successfully loaded A109_kinect.csv\n",
      "Successfully loaded A85_kinect.csv\n",
      "Successfully loaded A66_kinect.csv\n",
      "Successfully loaded A51_kinect.csv\n",
      "Successfully loaded A140_kinect.csv\n",
      "Successfully loaded A115_kinect.csv\n",
      "Successfully loaded A122_kinect.csv\n",
      "Successfully loaded A33_kinect.csv\n",
      "Successfully loaded A99_kinect.csv\n",
      "Successfully loaded A88_kinect.csv\n",
      "Successfully loaded A133_kinect.csv\n",
      "Successfully loaded A22_kinect.csv\n",
      "Successfully loaded A15_kinect.csv\n",
      "Successfully loaded A104_kinect.csv\n",
      "Successfully loaded A40_kinect.csv\n",
      "Successfully loaded A151_kinect.csv\n",
      "Successfully loaded A77_kinect.csv\n",
      "Successfully loaded A94_kinect.csv\n",
      "Successfully loaded A118_kinect.csv\n",
      "Successfully loaded A10_kinect.csv\n",
      "Successfully loaded A101_kinect.csv\n",
      "Successfully loaded A136_kinect.csv\n",
      "Successfully loaded A27_kinect.csv\n",
      "Successfully loaded B8_kinect.csv\n",
      "Successfully loaded A72_kinect.csv\n",
      "Successfully loaded A45_kinect.csv\n",
      "Successfully loaded A154_kinect.csv\n",
      "Successfully loaded A59_kinect.csv\n",
      "Successfully loaded A148_kinect.csv\n",
      "Successfully loaded A91_kinect.csv\n",
      "Successfully loaded A80_kinect.csv\n",
      "Successfully loaded B5_kinect.csv\n",
      "Successfully loaded A48_kinect.csv\n",
      "Successfully loaded A2_kinect.csv\n",
      "Successfully loaded A159_kinect.csv\n",
      "Successfully loaded B16_kinect.csv\n",
      "Successfully loaded B21_kinect.csv\n",
      "Successfully loaded A54_kinect.csv\n",
      "Successfully loaded A145_kinect.csv\n",
      "Successfully loaded A63_kinect.csv\n",
      "Successfully loaded A127_kinect.csv\n",
      "Successfully loaded A36_kinect.csv\n",
      "Successfully loaded A110_kinect.csv\n",
      "Successfully loaded A142_kinect.csv\n",
      "Successfully loaded A53_kinect.csv\n",
      "Successfully loaded A64_kinect.csv\n",
      "Successfully loaded A31_kinect.csv\n",
      "Successfully loaded A120_kinect.csv\n",
      "Successfully loaded A117_kinect.csv\n",
      "Successfully loaded B11_kinect.csv\n",
      "Successfully loaded B2_kinect.csv\n",
      "Successfully loaded A78_kinect.csv\n",
      "Successfully loaded A5_kinect.csv\n",
      "Successfully loaded A87_kinect.csv\n",
      "Successfully loaded A96_kinect.csv\n",
      "Successfully loaded A69_kinect.csv\n",
      "Successfully loaded A106_kinect.csv\n",
      "Successfully loaded A17_kinect.csv\n",
      "Successfully loaded A20_kinect.csv\n",
      "Successfully loaded A131_kinect.csv\n",
      "Successfully loaded A75_kinect.csv\n",
      "Successfully loaded A153_kinect.csv\n",
      "Successfully loaded A42_kinect.csv\n",
      "Successfully loaded A8_kinect.csv\n",
      "Successfully loaded A39_kinect.csv\n",
      "Successfully loaded A128_kinect.csv\n",
      "Successfully loaded A93_kinect.csv\n",
      "Successfully loaded A25_kinect.csv\n",
      "Successfully loaded A134_kinect.csv\n",
      "Successfully loaded A103_kinect.csv\n",
      "Successfully loaded A12_kinect.csv\n",
      "Successfully loaded A156_kinect.csv\n",
      "Successfully loaded A47_kinect.csv\n",
      "Successfully loaded A70_kinect.csv\n",
      "Successfully loaded B19_kinect.csv\n",
      "Successfully loaded A61_kinect.csv\n",
      "Successfully loaded A147_kinect.csv\n",
      "Successfully loaded A56_kinect.csv\n",
      "Successfully loaded A112_kinect.csv\n",
      "Successfully loaded A34_kinect.csv\n",
      "Successfully loaded A125_kinect.csv\n",
      "Successfully loaded A82_kinect.csv\n",
      "Successfully loaded B7_kinect.csv\n",
      "Successfully loaded B14_kinect.csv\n",
      "Successfully loaded A28_kinect.csv\n",
      "Successfully loaded A139_kinect.csv\n",
      "Dataframe shape after dropping FrameNo: (24005, 39)\n"
     ]
    },
    {
     "data": {
      "text/html": [
       "<div>\n",
       "<style scoped>\n",
       "    .dataframe tbody tr th:only-of-type {\n",
       "        vertical-align: middle;\n",
       "    }\n",
       "\n",
       "    .dataframe tbody tr th {\n",
       "        vertical-align: top;\n",
       "    }\n",
       "\n",
       "    .dataframe thead th {\n",
       "        text-align: right;\n",
       "    }\n",
       "</style>\n",
       "<table border=\"1\" class=\"dataframe\">\n",
       "  <thead>\n",
       "    <tr style=\"text-align: right;\">\n",
       "      <th></th>\n",
       "      <th>head_x</th>\n",
       "      <th>head_y</th>\n",
       "      <th>head_z</th>\n",
       "      <th>left_shoulder_x</th>\n",
       "      <th>left_shoulder_y</th>\n",
       "      <th>left_shoulder_z</th>\n",
       "      <th>left_elbow_x</th>\n",
       "      <th>left_elbow_y</th>\n",
       "      <th>left_elbow_z</th>\n",
       "      <th>right_shoulder_x</th>\n",
       "      <th>...</th>\n",
       "      <th>left_knee_z</th>\n",
       "      <th>right_knee_x</th>\n",
       "      <th>right_knee_y</th>\n",
       "      <th>right_knee_z</th>\n",
       "      <th>left_foot_x</th>\n",
       "      <th>left_foot_y</th>\n",
       "      <th>left_foot_z</th>\n",
       "      <th>right_foot_x</th>\n",
       "      <th>right_foot_y</th>\n",
       "      <th>right_foot_z</th>\n",
       "    </tr>\n",
       "  </thead>\n",
       "  <tbody>\n",
       "    <tr>\n",
       "      <th>0</th>\n",
       "      <td>-0.016480</td>\n",
       "      <td>0.77960</td>\n",
       "      <td>0.070646</td>\n",
       "      <td>-0.16221</td>\n",
       "      <td>0.58030</td>\n",
       "      <td>0.047752</td>\n",
       "      <td>-0.23056</td>\n",
       "      <td>0.84519</td>\n",
       "      <td>-0.033909</td>\n",
       "      <td>0.17278</td>\n",
       "      <td>...</td>\n",
       "      <td>-0.046769</td>\n",
       "      <td>0.13624</td>\n",
       "      <td>-0.51948</td>\n",
       "      <td>0.003528</td>\n",
       "      <td>-0.13975</td>\n",
       "      <td>-0.86193</td>\n",
       "      <td>-0.025068</td>\n",
       "      <td>0.15162</td>\n",
       "      <td>-0.91701</td>\n",
       "      <td>-0.005627</td>\n",
       "    </tr>\n",
       "    <tr>\n",
       "      <th>1</th>\n",
       "      <td>-0.016990</td>\n",
       "      <td>0.77937</td>\n",
       "      <td>0.069989</td>\n",
       "      <td>-0.16242</td>\n",
       "      <td>0.58031</td>\n",
       "      <td>0.047168</td>\n",
       "      <td>-0.23050</td>\n",
       "      <td>0.84547</td>\n",
       "      <td>-0.034061</td>\n",
       "      <td>0.17334</td>\n",
       "      <td>...</td>\n",
       "      <td>-0.045948</td>\n",
       "      <td>0.13663</td>\n",
       "      <td>-0.51921</td>\n",
       "      <td>0.003291</td>\n",
       "      <td>-0.13982</td>\n",
       "      <td>-0.86208</td>\n",
       "      <td>-0.024980</td>\n",
       "      <td>0.15001</td>\n",
       "      <td>-0.91352</td>\n",
       "      <td>-0.001491</td>\n",
       "    </tr>\n",
       "    <tr>\n",
       "      <th>2</th>\n",
       "      <td>-0.017345</td>\n",
       "      <td>0.77928</td>\n",
       "      <td>0.069703</td>\n",
       "      <td>-0.16258</td>\n",
       "      <td>0.58039</td>\n",
       "      <td>0.046964</td>\n",
       "      <td>-0.23044</td>\n",
       "      <td>0.84564</td>\n",
       "      <td>-0.034175</td>\n",
       "      <td>0.17310</td>\n",
       "      <td>...</td>\n",
       "      <td>-0.039191</td>\n",
       "      <td>0.13633</td>\n",
       "      <td>-0.51957</td>\n",
       "      <td>0.003223</td>\n",
       "      <td>-0.13937</td>\n",
       "      <td>-0.86233</td>\n",
       "      <td>-0.024777</td>\n",
       "      <td>0.14981</td>\n",
       "      <td>-0.91385</td>\n",
       "      <td>-0.001252</td>\n",
       "    </tr>\n",
       "    <tr>\n",
       "      <th>3</th>\n",
       "      <td>-0.017602</td>\n",
       "      <td>0.77935</td>\n",
       "      <td>0.069520</td>\n",
       "      <td>-0.16276</td>\n",
       "      <td>0.58035</td>\n",
       "      <td>0.046524</td>\n",
       "      <td>-0.23037</td>\n",
       "      <td>0.84598</td>\n",
       "      <td>-0.034318</td>\n",
       "      <td>0.17349</td>\n",
       "      <td>...</td>\n",
       "      <td>-0.044046</td>\n",
       "      <td>0.13653</td>\n",
       "      <td>-0.51892</td>\n",
       "      <td>0.002961</td>\n",
       "      <td>-0.13907</td>\n",
       "      <td>-0.86225</td>\n",
       "      <td>-0.024431</td>\n",
       "      <td>0.15711</td>\n",
       "      <td>-0.92048</td>\n",
       "      <td>-0.014920</td>\n",
       "    </tr>\n",
       "    <tr>\n",
       "      <th>4</th>\n",
       "      <td>-0.017559</td>\n",
       "      <td>0.77938</td>\n",
       "      <td>0.069530</td>\n",
       "      <td>-0.16279</td>\n",
       "      <td>0.58030</td>\n",
       "      <td>0.046288</td>\n",
       "      <td>-0.22906</td>\n",
       "      <td>0.85070</td>\n",
       "      <td>-0.036518</td>\n",
       "      <td>0.17365</td>\n",
       "      <td>...</td>\n",
       "      <td>-0.047814</td>\n",
       "      <td>0.13662</td>\n",
       "      <td>-0.51940</td>\n",
       "      <td>0.002998</td>\n",
       "      <td>-0.13917</td>\n",
       "      <td>-0.86364</td>\n",
       "      <td>-0.025274</td>\n",
       "      <td>0.15212</td>\n",
       "      <td>-0.91871</td>\n",
       "      <td>-0.004539</td>\n",
       "    </tr>\n",
       "  </tbody>\n",
       "</table>\n",
       "<p>5 rows × 39 columns</p>\n",
       "</div>"
      ],
      "text/plain": [
       "     head_x   head_y    head_z  left_shoulder_x  left_shoulder_y  \\\n",
       "0 -0.016480  0.77960  0.070646         -0.16221          0.58030   \n",
       "1 -0.016990  0.77937  0.069989         -0.16242          0.58031   \n",
       "2 -0.017345  0.77928  0.069703         -0.16258          0.58039   \n",
       "3 -0.017602  0.77935  0.069520         -0.16276          0.58035   \n",
       "4 -0.017559  0.77938  0.069530         -0.16279          0.58030   \n",
       "\n",
       "   left_shoulder_z  left_elbow_x  left_elbow_y  left_elbow_z  \\\n",
       "0         0.047752      -0.23056       0.84519     -0.033909   \n",
       "1         0.047168      -0.23050       0.84547     -0.034061   \n",
       "2         0.046964      -0.23044       0.84564     -0.034175   \n",
       "3         0.046524      -0.23037       0.84598     -0.034318   \n",
       "4         0.046288      -0.22906       0.85070     -0.036518   \n",
       "\n",
       "   right_shoulder_x  ...  left_knee_z  right_knee_x  right_knee_y  \\\n",
       "0           0.17278  ...    -0.046769       0.13624      -0.51948   \n",
       "1           0.17334  ...    -0.045948       0.13663      -0.51921   \n",
       "2           0.17310  ...    -0.039191       0.13633      -0.51957   \n",
       "3           0.17349  ...    -0.044046       0.13653      -0.51892   \n",
       "4           0.17365  ...    -0.047814       0.13662      -0.51940   \n",
       "\n",
       "   right_knee_z  left_foot_x  left_foot_y  left_foot_z  right_foot_x  \\\n",
       "0      0.003528     -0.13975     -0.86193    -0.025068       0.15162   \n",
       "1      0.003291     -0.13982     -0.86208    -0.024980       0.15001   \n",
       "2      0.003223     -0.13937     -0.86233    -0.024777       0.14981   \n",
       "3      0.002961     -0.13907     -0.86225    -0.024431       0.15711   \n",
       "4      0.002998     -0.13917     -0.86364    -0.025274       0.15212   \n",
       "\n",
       "   right_foot_y  right_foot_z  \n",
       "0      -0.91701     -0.005627  \n",
       "1      -0.91352     -0.001491  \n",
       "2      -0.91385     -0.001252  \n",
       "3      -0.92048     -0.014920  \n",
       "4      -0.91871     -0.004539  \n",
       "\n",
       "[5 rows x 39 columns]"
      ]
     },
     "execution_count": 2,
     "metadata": {},
     "output_type": "execute_result"
    }
   ],
   "source": [
    "data_dir = 'data/kinect_good_preprocessed'\n",
    "\n",
    "# List all CSV files that end with kinect.csv\n",
    "csv_files = [f for f in os.listdir(data_dir) if f.endswith('kinect.csv')]\n",
    "\n",
    "# Create an empty dataframe\n",
    "all_data = pd.DataFrame()\n",
    "\n",
    "# Load each CSV file and concatenate to the main dataframe\n",
    "for file in csv_files:\n",
    "    file_path = os.path.join(data_dir, file)\n",
    "    try:\n",
    "        df = pd.read_csv(file_path)\n",
    "        # Add a source column to track which file just to check\n",
    "        # df['source_file'] = file\n",
    "\n",
    "        # Append to the main dataframe\n",
    "        all_data = pd.concat([all_data, df], ignore_index=True)\n",
    "\n",
    "        print(f\"Successfully loaded {file}\")\n",
    "    except Exception as e:\n",
    "        print(f\"Error loading {file}: {e}\")\n",
    "\n",
    "# Drop the FrameNo column if it exists\n",
    "if 'FrameNo' in all_data.columns:\n",
    "    all_data = all_data.drop('FrameNo', axis=1)\n",
    "\n",
    "# Check the dataframe after dropping FrameNo\n",
    "print(f\"Dataframe shape after dropping FrameNo: {all_data.shape}\")\n",
    "\n",
    "all_data.head()"
   ]
  },
  {
   "cell_type": "markdown",
   "id": "5dc73e40f7232eb8",
   "metadata": {},
   "source": [
    "### Split the data into features (x and y coordinates) and targets (z coordinates):"
   ]
  },
  {
   "cell_type": "code",
   "execution_count": 3,
   "id": "f9f9060ec8b30834",
   "metadata": {
    "ExecuteTime": {
     "end_time": "2025-04-10T10:20:34.500656Z",
     "start_time": "2025-04-10T10:20:34.497668Z"
    }
   },
   "outputs": [
    {
     "name": "stdout",
     "output_type": "stream",
     "text": [
      "Number of x columns: 13\n",
      "Number of y columns: 13\n",
      "Number of z columns: 13\n",
      "\n",
      "X columns: [' head_x', 'left_shoulder_x', 'left_elbow_x', 'right_shoulder_x', 'right_elbow_x', 'left_hand_x', 'right_hand_x', 'left_hip_x', 'right_hip_x', 'left_knee_x', 'right_knee_x', 'left_foot_x', 'right_foot_x']\n",
      "\n",
      "Y columns: ['head_y', 'left_shoulder_y', 'left_elbow_y', 'right_shoulder_y', 'right_elbow_y', 'left_hand_y', 'right_hand_y', 'left_hip_y', 'right_hip_y', 'left_knee_y', 'right_knee_y', 'left_foot_y', 'right_foot_y']\n",
      "\n",
      "Z columns: ['head_z', 'left_shoulder_z', 'left_elbow_z', 'right_shoulder_z', 'right_elbow_z', 'left_hand_z', 'right_hand_z', 'left_hip_z', 'right_hip_z', 'left_knee_z', 'right_knee_z', 'left_foot_z', 'right_foot_z']\n"
     ]
    }
   ],
   "source": [
    "# Extract column names for x, y, and z coordinates\n",
    "x_columns = [col for col in all_data.columns if col.endswith('_x')]\n",
    "y_columns = [col for col in all_data.columns if col.endswith('_y')]\n",
    "z_columns = [col for col in all_data.columns if col.endswith('_z')]\n",
    "\n",
    "print(f\"Number of x columns: {len(x_columns)}\")\n",
    "print(f\"Number of y columns: {len(y_columns)}\")\n",
    "print(f\"Number of z columns: {len(z_columns)}\")\n",
    "\n",
    "# Display the column names to verify\n",
    "print(\"\\nX columns:\", x_columns)\n",
    "print(\"\\nY columns:\", y_columns)\n",
    "print(\"\\nZ columns:\", z_columns)"
   ]
  },
  {
   "cell_type": "markdown",
   "id": "66dc91a960e86a63",
   "metadata": {},
   "source": [
    "### Create the input features and target variables:"
   ]
  },
  {
   "cell_type": "code",
   "execution_count": 4,
   "id": "9bc078df12bfefd9",
   "metadata": {
    "ExecuteTime": {
     "end_time": "2025-04-10T10:20:34.534664Z",
     "start_time": "2025-04-10T10:20:34.530201Z"
    }
   },
   "outputs": [
    {
     "name": "stdout",
     "output_type": "stream",
     "text": [
      "Features shape (X): (24005, 26)\n",
      "Targets shape (y): (24005, 13)\n"
     ]
    }
   ],
   "source": [
    "# Combine x and y coordinates for input features\n",
    "X = all_data[x_columns + y_columns].values\n",
    "\n",
    "# Z coordinates are the target\n",
    "y = all_data[z_columns].values\n",
    "\n",
    "print(f\"Features shape (X): {X.shape}\")\n",
    "print(f\"Targets shape (y): {y.shape}\")"
   ]
  },
  {
   "cell_type": "markdown",
   "id": "64b16fbbcb85a70f",
   "metadata": {},
   "source": [
    " ### Split the data into training and testing sets:"
   ]
  },
  {
   "cell_type": "code",
   "execution_count": 6,
   "id": "296c54bed9458b3b",
   "metadata": {
    "ExecuteTime": {
     "end_time": "2025-04-10T10:23:43.665044Z",
     "start_time": "2025-04-10T10:23:43.657194Z"
    }
   },
   "outputs": [
    {
     "name": "stdout",
     "output_type": "stream",
     "text": [
      "Training features shape: (19204, 26)\n",
      "Testing features shape: (4801, 26)\n",
      "Training targets shape: (19204, 13)\n",
      "Testing targets shape: (4801, 13)\n"
     ]
    }
   ],
   "source": [
    "# Split the data into training and testing sets (80% training, 20% testing)\n",
    "X_train, X_test, y_train, y_test = train_test_split(X, y, test_size=0.2, random_state=42)\n",
    "\n",
    "print(f\"Training features shape: {X_train.shape}\")\n",
    "print(f\"Testing features shape: {X_test.shape}\")\n",
    "print(f\"Training targets shape: {y_train.shape}\")\n",
    "print(f\"Testing targets shape: {y_test.shape}\")"
   ]
  },
  {
   "cell_type": "markdown",
   "id": "52bb4e4c7dca3c70",
   "metadata": {},
   "source": [
    "### Normalize the data."
   ]
  },
  {
   "cell_type": "code",
   "execution_count": 7,
   "id": "c16a97a1402a21b1",
   "metadata": {
    "ExecuteTime": {
     "end_time": "2025-04-10T10:25:00.606871Z",
     "start_time": "2025-04-10T10:25:00.600978Z"
    }
   },
   "outputs": [],
   "source": [
    "from sklearn.preprocessing import StandardScaler"
   ]
  },
  {
   "cell_type": "code",
   "execution_count": 8,
   "id": "1100728216ed162d",
   "metadata": {
    "ExecuteTime": {
     "end_time": "2025-04-10T10:25:21.932272Z",
     "start_time": "2025-04-10T10:25:21.911257Z"
    }
   },
   "outputs": [
    {
     "name": "stdout",
     "output_type": "stream",
     "text": [
      "X_train_scaled mean: 3.628591578177891e-15\n",
      "X_train_scaled std: 1.0\n",
      "y_train_scaled mean: 7.568436234972115e-16\n",
      "y_train_scaled std: 1.0\n"
     ]
    }
   ],
   "source": [
    "# Normalize the input features\n",
    "scaler_X = StandardScaler()\n",
    "X_train_scaled = scaler_X.fit_transform(X_train)\n",
    "X_test_scaled = scaler_X.transform(X_test)\n",
    "\n",
    "# Normalize the output targets\n",
    "scaler_y = StandardScaler()\n",
    "y_train_scaled = scaler_y.fit_transform(y_train)\n",
    "y_test_scaled = scaler_y.transform(y_test)\n",
    "\n",
    "# Check the mean and standard deviation of the scaled data\n",
    "print(\"X_train_scaled mean:\", X_train_scaled.mean())\n",
    "print(\"X_train_scaled std:\", X_train_scaled.std())\n",
    "print(\"y_train_scaled mean:\", y_train_scaled.mean())\n",
    "print(\"y_train_scaled std:\", y_train_scaled.std())"
   ]
  },
  {
   "cell_type": "markdown",
   "id": "435b0b944561063c",
   "metadata": {},
   "source": [
    "### Define a simple neural network mode"
   ]
  },
  {
   "cell_type": "code",
   "execution_count": null,
   "id": "78be3e34311eafe3",
   "metadata": {
    "ExecuteTime": {
     "end_time": "2025-04-10T10:28:53.570823Z",
     "start_time": "2025-04-10T10:28:53.546721Z"
    }
   },
   "outputs": [
    {
     "data": {
      "text/html": [
       "<pre style=\"white-space:pre;overflow-x:auto;line-height:normal;font-family:Menlo,'DejaVu Sans Mono',consolas,'Courier New',monospace\"><span style=\"font-weight: bold\">Model: \"functional_1\"</span>\n",
       "</pre>\n"
      ],
      "text/plain": [
       "\u001b[1mModel: \"functional_1\"\u001b[0m\n"
      ]
     },
     "metadata": {},
     "output_type": "display_data"
    },
    {
     "data": {
      "text/html": [
       "<pre style=\"white-space:pre;overflow-x:auto;line-height:normal;font-family:Menlo,'DejaVu Sans Mono',consolas,'Courier New',monospace\">┏━━━━━━━━━━━━━━━━━━━━━━━━━━━━━━━━━┳━━━━━━━━━━━━━━━━━━━━━━━━┳━━━━━━━━━━━━━━━┓\n",
       "┃<span style=\"font-weight: bold\"> Layer (type)                    </span>┃<span style=\"font-weight: bold\"> Output Shape           </span>┃<span style=\"font-weight: bold\">       Param # </span>┃\n",
       "┡━━━━━━━━━━━━━━━━━━━━━━━━━━━━━━━━━╇━━━━━━━━━━━━━━━━━━━━━━━━╇━━━━━━━━━━━━━━━┩\n",
       "│ input_layer_1 (<span style=\"color: #0087ff; text-decoration-color: #0087ff\">InputLayer</span>)      │ (<span style=\"color: #00d7ff; text-decoration-color: #00d7ff\">None</span>, <span style=\"color: #00af00; text-decoration-color: #00af00\">26</span>)             │             <span style=\"color: #00af00; text-decoration-color: #00af00\">0</span> │\n",
       "├─────────────────────────────────┼────────────────────────┼───────────────┤\n",
       "│ dense_3 (<span style=\"color: #0087ff; text-decoration-color: #0087ff\">Dense</span>)                 │ (<span style=\"color: #00d7ff; text-decoration-color: #00d7ff\">None</span>, <span style=\"color: #00af00; text-decoration-color: #00af00\">128</span>)            │         <span style=\"color: #00af00; text-decoration-color: #00af00\">3,456</span> │\n",
       "├─────────────────────────────────┼────────────────────────┼───────────────┤\n",
       "│ dropout_1 (<span style=\"color: #0087ff; text-decoration-color: #0087ff\">Dropout</span>)             │ (<span style=\"color: #00d7ff; text-decoration-color: #00d7ff\">None</span>, <span style=\"color: #00af00; text-decoration-color: #00af00\">128</span>)            │             <span style=\"color: #00af00; text-decoration-color: #00af00\">0</span> │\n",
       "├─────────────────────────────────┼────────────────────────┼───────────────┤\n",
       "│ dense_4 (<span style=\"color: #0087ff; text-decoration-color: #0087ff\">Dense</span>)                 │ (<span style=\"color: #00d7ff; text-decoration-color: #00d7ff\">None</span>, <span style=\"color: #00af00; text-decoration-color: #00af00\">64</span>)             │         <span style=\"color: #00af00; text-decoration-color: #00af00\">8,256</span> │\n",
       "├─────────────────────────────────┼────────────────────────┼───────────────┤\n",
       "│ dense_5 (<span style=\"color: #0087ff; text-decoration-color: #0087ff\">Dense</span>)                 │ (<span style=\"color: #00d7ff; text-decoration-color: #00d7ff\">None</span>, <span style=\"color: #00af00; text-decoration-color: #00af00\">13</span>)             │           <span style=\"color: #00af00; text-decoration-color: #00af00\">845</span> │\n",
       "└─────────────────────────────────┴────────────────────────┴───────────────┘\n",
       "</pre>\n"
      ],
      "text/plain": [
       "┏━━━━━━━━━━━━━━━━━━━━━━━━━━━━━━━━━┳━━━━━━━━━━━━━━━━━━━━━━━━┳━━━━━━━━━━━━━━━┓\n",
       "┃\u001b[1m \u001b[0m\u001b[1mLayer (type)                   \u001b[0m\u001b[1m \u001b[0m┃\u001b[1m \u001b[0m\u001b[1mOutput Shape          \u001b[0m\u001b[1m \u001b[0m┃\u001b[1m \u001b[0m\u001b[1m      Param #\u001b[0m\u001b[1m \u001b[0m┃\n",
       "┡━━━━━━━━━━━━━━━━━━━━━━━━━━━━━━━━━╇━━━━━━━━━━━━━━━━━━━━━━━━╇━━━━━━━━━━━━━━━┩\n",
       "│ input_layer_1 (\u001b[38;5;33mInputLayer\u001b[0m)      │ (\u001b[38;5;45mNone\u001b[0m, \u001b[38;5;34m26\u001b[0m)             │             \u001b[38;5;34m0\u001b[0m │\n",
       "├─────────────────────────────────┼────────────────────────┼───────────────┤\n",
       "│ dense_3 (\u001b[38;5;33mDense\u001b[0m)                 │ (\u001b[38;5;45mNone\u001b[0m, \u001b[38;5;34m128\u001b[0m)            │         \u001b[38;5;34m3,456\u001b[0m │\n",
       "├─────────────────────────────────┼────────────────────────┼───────────────┤\n",
       "│ dropout_1 (\u001b[38;5;33mDropout\u001b[0m)             │ (\u001b[38;5;45mNone\u001b[0m, \u001b[38;5;34m128\u001b[0m)            │             \u001b[38;5;34m0\u001b[0m │\n",
       "├─────────────────────────────────┼────────────────────────┼───────────────┤\n",
       "│ dense_4 (\u001b[38;5;33mDense\u001b[0m)                 │ (\u001b[38;5;45mNone\u001b[0m, \u001b[38;5;34m64\u001b[0m)             │         \u001b[38;5;34m8,256\u001b[0m │\n",
       "├─────────────────────────────────┼────────────────────────┼───────────────┤\n",
       "│ dense_5 (\u001b[38;5;33mDense\u001b[0m)                 │ (\u001b[38;5;45mNone\u001b[0m, \u001b[38;5;34m13\u001b[0m)             │           \u001b[38;5;34m845\u001b[0m │\n",
       "└─────────────────────────────────┴────────────────────────┴───────────────┘\n"
      ]
     },
     "metadata": {},
     "output_type": "display_data"
    },
    {
     "data": {
      "text/html": [
       "<pre style=\"white-space:pre;overflow-x:auto;line-height:normal;font-family:Menlo,'DejaVu Sans Mono',consolas,'Courier New',monospace\"><span style=\"font-weight: bold\"> Total params: </span><span style=\"color: #00af00; text-decoration-color: #00af00\">12,557</span> (49.05 KB)\n",
       "</pre>\n"
      ],
      "text/plain": [
       "\u001b[1m Total params: \u001b[0m\u001b[38;5;34m12,557\u001b[0m (49.05 KB)\n"
      ]
     },
     "metadata": {},
     "output_type": "display_data"
    },
    {
     "data": {
      "text/html": [
       "<pre style=\"white-space:pre;overflow-x:auto;line-height:normal;font-family:Menlo,'DejaVu Sans Mono',consolas,'Courier New',monospace\"><span style=\"font-weight: bold\"> Trainable params: </span><span style=\"color: #00af00; text-decoration-color: #00af00\">12,557</span> (49.05 KB)\n",
       "</pre>\n"
      ],
      "text/plain": [
       "\u001b[1m Trainable params: \u001b[0m\u001b[38;5;34m12,557\u001b[0m (49.05 KB)\n"
      ]
     },
     "metadata": {},
     "output_type": "display_data"
    },
    {
     "data": {
      "text/html": [
       "<pre style=\"white-space:pre;overflow-x:auto;line-height:normal;font-family:Menlo,'DejaVu Sans Mono',consolas,'Courier New',monospace\"><span style=\"font-weight: bold\"> Non-trainable params: </span><span style=\"color: #00af00; text-decoration-color: #00af00\">0</span> (0.00 B)\n",
       "</pre>\n"
      ],
      "text/plain": [
       "\u001b[1m Non-trainable params: \u001b[0m\u001b[38;5;34m0\u001b[0m (0.00 B)\n"
      ]
     },
     "metadata": {},
     "output_type": "display_data"
    }
   ],
   "source": [
    "# Define the model using the functional API\n",
    "inputs = Input(shape=(X_train_scaled.shape[1],))\n",
    "x = layers.Dense(128, activation='relu')(inputs)\n",
    "x = layers.Dropout(0.3)(x)\n",
    "x = layers.Dense(64, activation='relu')(x)\n",
    "outputs = layers.Dense(y_train_scaled.shape[1])(x)\n",
    "\n",
    "model = models.Model(inputs=inputs, outputs=outputs)\n",
    "\n",
    "# Display the model architecture\n",
    "model.summary()"
   ]
  },
  {
   "cell_type": "markdown",
   "id": "373e95480c851ec6",
   "metadata": {},
   "source": [
    "### Compile the model"
   ]
  },
  {
   "cell_type": "code",
   "execution_count": 14,
   "id": "6f59c93697870b69",
   "metadata": {
    "ExecuteTime": {
     "end_time": "2025-04-10T10:32:03.129955Z",
     "start_time": "2025-04-10T10:32:03.107323Z"
    }
   },
   "outputs": [],
   "source": [
    "# Compile the model\n",
    "model.compile(\n",
    "    optimizer='adam',\n",
    "    loss='mse',        # Mean Squared Error for regression\n",
    "    metrics=['mae']    # Mean Absolute Error as an additional metric\n",
    ")"
   ]
  },
  {
   "cell_type": "markdown",
   "id": "31ef7bf59668eab",
   "metadata": {},
   "source": [
    "### Train the model"
   ]
  },
  {
   "cell_type": "code",
   "execution_count": 16,
   "id": "d037134a96b2dcf4",
   "metadata": {
    "ExecuteTime": {
     "end_time": "2025-04-10T10:33:31.474374Z",
     "start_time": "2025-04-10T10:33:09.714567Z"
    }
   },
   "outputs": [
    {
     "name": "stdout",
     "output_type": "stream",
     "text": [
      "Epoch 1/100\n",
      "\u001b[1m481/481\u001b[0m \u001b[32m━━━━━━━━━━━━━━━━━━━━\u001b[0m\u001b[37m\u001b[0m \u001b[1m1s\u001b[0m 498us/step - loss: 0.5629 - mae: 0.5578 - val_loss: 0.2536 - val_mae: 0.3604\n",
      "Epoch 2/100\n",
      "\u001b[1m481/481\u001b[0m \u001b[32m━━━━━━━━━━━━━━━━━━━━\u001b[0m\u001b[37m\u001b[0m \u001b[1m0s\u001b[0m 435us/step - loss: 0.2675 - mae: 0.3811 - val_loss: 0.1788 - val_mae: 0.3046\n",
      "Epoch 3/100\n",
      "\u001b[1m481/481\u001b[0m \u001b[32m━━━━━━━━━━━━━━━━━━━━\u001b[0m\u001b[37m\u001b[0m \u001b[1m0s\u001b[0m 424us/step - loss: 0.2134 - mae: 0.3419 - val_loss: 0.1417 - val_mae: 0.2737\n",
      "Epoch 4/100\n",
      "\u001b[1m481/481\u001b[0m \u001b[32m━━━━━━━━━━━━━━━━━━━━\u001b[0m\u001b[37m\u001b[0m \u001b[1m0s\u001b[0m 414us/step - loss: 0.1751 - mae: 0.3121 - val_loss: 0.1204 - val_mae: 0.2549\n",
      "Epoch 5/100\n",
      "\u001b[1m481/481\u001b[0m \u001b[32m━━━━━━━━━━━━━━━━━━━━\u001b[0m\u001b[37m\u001b[0m \u001b[1m0s\u001b[0m 427us/step - loss: 0.1562 - mae: 0.2947 - val_loss: 0.1143 - val_mae: 0.2511\n",
      "Epoch 6/100\n",
      "\u001b[1m481/481\u001b[0m \u001b[32m━━━━━━━━━━━━━━━━━━━━\u001b[0m\u001b[37m\u001b[0m \u001b[1m0s\u001b[0m 410us/step - loss: 0.1417 - mae: 0.2817 - val_loss: 0.1046 - val_mae: 0.2373\n",
      "Epoch 7/100\n",
      "\u001b[1m481/481\u001b[0m \u001b[32m━━━━━━━━━━━━━━━━━━━━\u001b[0m\u001b[37m\u001b[0m \u001b[1m0s\u001b[0m 422us/step - loss: 0.1303 - mae: 0.2711 - val_loss: 0.0931 - val_mae: 0.2227\n",
      "Epoch 8/100\n",
      "\u001b[1m481/481\u001b[0m \u001b[32m━━━━━━━━━━━━━━━━━━━━\u001b[0m\u001b[37m\u001b[0m \u001b[1m0s\u001b[0m 422us/step - loss: 0.1243 - mae: 0.2625 - val_loss: 0.0889 - val_mae: 0.2171\n",
      "Epoch 9/100\n",
      "\u001b[1m481/481\u001b[0m \u001b[32m━━━━━━━━━━━━━━━━━━━━\u001b[0m\u001b[37m\u001b[0m \u001b[1m0s\u001b[0m 421us/step - loss: 0.1191 - mae: 0.2567 - val_loss: 0.0823 - val_mae: 0.2086\n",
      "Epoch 10/100\n",
      "\u001b[1m481/481\u001b[0m \u001b[32m━━━━━━━━━━━━━━━━━━━━\u001b[0m\u001b[37m\u001b[0m \u001b[1m0s\u001b[0m 436us/step - loss: 0.1113 - mae: 0.2498 - val_loss: 0.0783 - val_mae: 0.2036\n",
      "Epoch 11/100\n",
      "\u001b[1m481/481\u001b[0m \u001b[32m━━━━━━━━━━━━━━━━━━━━\u001b[0m\u001b[37m\u001b[0m \u001b[1m0s\u001b[0m 450us/step - loss: 0.1082 - mae: 0.2435 - val_loss: 0.0754 - val_mae: 0.2013\n",
      "Epoch 12/100\n",
      "\u001b[1m481/481\u001b[0m \u001b[32m━━━━━━━━━━━━━━━━━━━━\u001b[0m\u001b[37m\u001b[0m \u001b[1m0s\u001b[0m 523us/step - loss: 0.1011 - mae: 0.2376 - val_loss: 0.0738 - val_mae: 0.1964\n",
      "Epoch 13/100\n",
      "\u001b[1m481/481\u001b[0m \u001b[32m━━━━━━━━━━━━━━━━━━━━\u001b[0m\u001b[37m\u001b[0m \u001b[1m0s\u001b[0m 430us/step - loss: 0.1024 - mae: 0.2362 - val_loss: 0.0710 - val_mae: 0.1943\n",
      "Epoch 14/100\n",
      "\u001b[1m481/481\u001b[0m \u001b[32m━━━━━━━━━━━━━━━━━━━━\u001b[0m\u001b[37m\u001b[0m \u001b[1m0s\u001b[0m 430us/step - loss: 0.0947 - mae: 0.2297 - val_loss: 0.0693 - val_mae: 0.1921\n",
      "Epoch 15/100\n",
      "\u001b[1m481/481\u001b[0m \u001b[32m━━━━━━━━━━━━━━━━━━━━\u001b[0m\u001b[37m\u001b[0m \u001b[1m0s\u001b[0m 436us/step - loss: 0.0954 - mae: 0.2293 - val_loss: 0.0668 - val_mae: 0.1888\n",
      "Epoch 16/100\n",
      "\u001b[1m481/481\u001b[0m \u001b[32m━━━━━━━━━━━━━━━━━━━━\u001b[0m\u001b[37m\u001b[0m \u001b[1m0s\u001b[0m 421us/step - loss: 0.0902 - mae: 0.2244 - val_loss: 0.0645 - val_mae: 0.1857\n",
      "Epoch 17/100\n",
      "\u001b[1m481/481\u001b[0m \u001b[32m━━━━━━━━━━━━━━━━━━━━\u001b[0m\u001b[37m\u001b[0m \u001b[1m0s\u001b[0m 412us/step - loss: 0.0910 - mae: 0.2251 - val_loss: 0.0635 - val_mae: 0.1839\n",
      "Epoch 18/100\n",
      "\u001b[1m481/481\u001b[0m \u001b[32m━━━━━━━━━━━━━━━━━━━━\u001b[0m\u001b[37m\u001b[0m \u001b[1m0s\u001b[0m 413us/step - loss: 0.0883 - mae: 0.2212 - val_loss: 0.0659 - val_mae: 0.1883\n",
      "Epoch 19/100\n",
      "\u001b[1m481/481\u001b[0m \u001b[32m━━━━━━━━━━━━━━━━━━━━\u001b[0m\u001b[37m\u001b[0m \u001b[1m0s\u001b[0m 409us/step - loss: 0.0860 - mae: 0.2174 - val_loss: 0.0603 - val_mae: 0.1815\n",
      "Epoch 20/100\n",
      "\u001b[1m481/481\u001b[0m \u001b[32m━━━━━━━━━━━━━━━━━━━━\u001b[0m\u001b[37m\u001b[0m \u001b[1m0s\u001b[0m 408us/step - loss: 0.0843 - mae: 0.2171 - val_loss: 0.0598 - val_mae: 0.1801\n",
      "Epoch 21/100\n",
      "\u001b[1m481/481\u001b[0m \u001b[32m━━━━━━━━━━━━━━━━━━━━\u001b[0m\u001b[37m\u001b[0m \u001b[1m0s\u001b[0m 417us/step - loss: 0.0830 - mae: 0.2152 - val_loss: 0.0595 - val_mae: 0.1803\n",
      "Epoch 22/100\n",
      "\u001b[1m481/481\u001b[0m \u001b[32m━━━━━━━━━━━━━━━━━━━━\u001b[0m\u001b[37m\u001b[0m \u001b[1m0s\u001b[0m 407us/step - loss: 0.0816 - mae: 0.2127 - val_loss: 0.0568 - val_mae: 0.1765\n",
      "Epoch 23/100\n",
      "\u001b[1m481/481\u001b[0m \u001b[32m━━━━━━━━━━━━━━━━━━━━\u001b[0m\u001b[37m\u001b[0m \u001b[1m0s\u001b[0m 408us/step - loss: 0.0807 - mae: 0.2124 - val_loss: 0.0582 - val_mae: 0.1779\n",
      "Epoch 24/100\n",
      "\u001b[1m481/481\u001b[0m \u001b[32m━━━━━━━━━━━━━━━━━━━━\u001b[0m\u001b[37m\u001b[0m \u001b[1m0s\u001b[0m 409us/step - loss: 0.0792 - mae: 0.2098 - val_loss: 0.0566 - val_mae: 0.1758\n",
      "Epoch 25/100\n",
      "\u001b[1m481/481\u001b[0m \u001b[32m━━━━━━━━━━━━━━━━━━━━\u001b[0m\u001b[37m\u001b[0m \u001b[1m0s\u001b[0m 410us/step - loss: 0.0770 - mae: 0.2086 - val_loss: 0.0549 - val_mae: 0.1721\n",
      "Epoch 26/100\n",
      "\u001b[1m481/481\u001b[0m \u001b[32m━━━━━━━━━━━━━━━━━━━━\u001b[0m\u001b[37m\u001b[0m \u001b[1m0s\u001b[0m 418us/step - loss: 0.0778 - mae: 0.2093 - val_loss: 0.0535 - val_mae: 0.1696\n",
      "Epoch 27/100\n",
      "\u001b[1m481/481\u001b[0m \u001b[32m━━━━━━━━━━━━━━━━━━━━\u001b[0m\u001b[37m\u001b[0m \u001b[1m0s\u001b[0m 410us/step - loss: 0.0790 - mae: 0.2090 - val_loss: 0.0524 - val_mae: 0.1690\n",
      "Epoch 28/100\n",
      "\u001b[1m481/481\u001b[0m \u001b[32m━━━━━━━━━━━━━━━━━━━━\u001b[0m\u001b[37m\u001b[0m \u001b[1m0s\u001b[0m 406us/step - loss: 0.0760 - mae: 0.2070 - val_loss: 0.0555 - val_mae: 0.1734\n",
      "Epoch 29/100\n",
      "\u001b[1m481/481\u001b[0m \u001b[32m━━━━━━━━━━━━━━━━━━━━\u001b[0m\u001b[37m\u001b[0m \u001b[1m0s\u001b[0m 422us/step - loss: 0.0768 - mae: 0.2073 - val_loss: 0.0506 - val_mae: 0.1663\n",
      "Epoch 30/100\n",
      "\u001b[1m481/481\u001b[0m \u001b[32m━━━━━━━━━━━━━━━━━━━━\u001b[0m\u001b[37m\u001b[0m \u001b[1m0s\u001b[0m 414us/step - loss: 0.0746 - mae: 0.2051 - val_loss: 0.0529 - val_mae: 0.1697\n",
      "Epoch 31/100\n",
      "\u001b[1m481/481\u001b[0m \u001b[32m━━━━━━━━━━━━━━━━━━━━\u001b[0m\u001b[37m\u001b[0m \u001b[1m0s\u001b[0m 415us/step - loss: 0.0737 - mae: 0.2029 - val_loss: 0.0518 - val_mae: 0.1673\n",
      "Epoch 32/100\n",
      "\u001b[1m481/481\u001b[0m \u001b[32m━━━━━━━━━━━━━━━━━━━━\u001b[0m\u001b[37m\u001b[0m \u001b[1m0s\u001b[0m 407us/step - loss: 0.0741 - mae: 0.2036 - val_loss: 0.0502 - val_mae: 0.1666\n",
      "Epoch 33/100\n",
      "\u001b[1m481/481\u001b[0m \u001b[32m━━━━━━━━━━━━━━━━━━━━\u001b[0m\u001b[37m\u001b[0m \u001b[1m0s\u001b[0m 408us/step - loss: 0.0758 - mae: 0.2065 - val_loss: 0.0506 - val_mae: 0.1662\n",
      "Epoch 34/100\n",
      "\u001b[1m481/481\u001b[0m \u001b[32m━━━━━━━━━━━━━━━━━━━━\u001b[0m\u001b[37m\u001b[0m \u001b[1m0s\u001b[0m 513us/step - loss: 0.0731 - mae: 0.2009 - val_loss: 0.0491 - val_mae: 0.1645\n",
      "Epoch 35/100\n",
      "\u001b[1m481/481\u001b[0m \u001b[32m━━━━━━━━━━━━━━━━━━━━\u001b[0m\u001b[37m\u001b[0m \u001b[1m0s\u001b[0m 411us/step - loss: 0.0706 - mae: 0.1986 - val_loss: 0.0491 - val_mae: 0.1635\n",
      "Epoch 36/100\n",
      "\u001b[1m481/481\u001b[0m \u001b[32m━━━━━━━━━━━━━━━━━━━━\u001b[0m\u001b[37m\u001b[0m \u001b[1m0s\u001b[0m 416us/step - loss: 0.0728 - mae: 0.1997 - val_loss: 0.0515 - val_mae: 0.1670\n",
      "Epoch 37/100\n",
      "\u001b[1m481/481\u001b[0m \u001b[32m━━━━━━━━━━━━━━━━━━━━\u001b[0m\u001b[37m\u001b[0m \u001b[1m0s\u001b[0m 414us/step - loss: 0.0732 - mae: 0.2006 - val_loss: 0.0481 - val_mae: 0.1639\n",
      "Epoch 38/100\n",
      "\u001b[1m481/481\u001b[0m \u001b[32m━━━━━━━━━━━━━━━━━━━━\u001b[0m\u001b[37m\u001b[0m \u001b[1m0s\u001b[0m 449us/step - loss: 0.0700 - mae: 0.1975 - val_loss: 0.0483 - val_mae: 0.1619\n",
      "Epoch 39/100\n",
      "\u001b[1m481/481\u001b[0m \u001b[32m━━━━━━━━━━━━━━━━━━━━\u001b[0m\u001b[37m\u001b[0m \u001b[1m0s\u001b[0m 413us/step - loss: 0.0700 - mae: 0.1974 - val_loss: 0.0469 - val_mae: 0.1606\n",
      "Epoch 40/100\n",
      "\u001b[1m481/481\u001b[0m \u001b[32m━━━━━━━━━━━━━━━━━━━━\u001b[0m\u001b[37m\u001b[0m \u001b[1m0s\u001b[0m 418us/step - loss: 0.0675 - mae: 0.1953 - val_loss: 0.0487 - val_mae: 0.1637\n",
      "Epoch 41/100\n",
      "\u001b[1m481/481\u001b[0m \u001b[32m━━━━━━━━━━━━━━━━━━━━\u001b[0m\u001b[37m\u001b[0m \u001b[1m0s\u001b[0m 414us/step - loss: 0.0682 - mae: 0.1958 - val_loss: 0.0480 - val_mae: 0.1611\n",
      "Epoch 42/100\n",
      "\u001b[1m481/481\u001b[0m \u001b[32m━━━━━━━━━━━━━━━━━━━━\u001b[0m\u001b[37m\u001b[0m \u001b[1m0s\u001b[0m 414us/step - loss: 0.0694 - mae: 0.1961 - val_loss: 0.0475 - val_mae: 0.1618\n",
      "Epoch 43/100\n",
      "\u001b[1m481/481\u001b[0m \u001b[32m━━━━━━━━━━━━━━━━━━━━\u001b[0m\u001b[37m\u001b[0m \u001b[1m0s\u001b[0m 401us/step - loss: 0.0696 - mae: 0.1973 - val_loss: 0.0471 - val_mae: 0.1613\n",
      "Epoch 44/100\n",
      "\u001b[1m481/481\u001b[0m \u001b[32m━━━━━━━━━━━━━━━━━━━━\u001b[0m\u001b[37m\u001b[0m \u001b[1m0s\u001b[0m 402us/step - loss: 0.0696 - mae: 0.1966 - val_loss: 0.0459 - val_mae: 0.1581\n",
      "Epoch 45/100\n",
      "\u001b[1m481/481\u001b[0m \u001b[32m━━━━━━━━━━━━━━━━━━━━\u001b[0m\u001b[37m\u001b[0m \u001b[1m0s\u001b[0m 409us/step - loss: 0.0685 - mae: 0.1956 - val_loss: 0.0451 - val_mae: 0.1584\n",
      "Epoch 46/100\n",
      "\u001b[1m481/481\u001b[0m \u001b[32m━━━━━━━━━━━━━━━━━━━━\u001b[0m\u001b[37m\u001b[0m \u001b[1m0s\u001b[0m 417us/step - loss: 0.0674 - mae: 0.1941 - val_loss: 0.0458 - val_mae: 0.1596\n",
      "Epoch 47/100\n",
      "\u001b[1m481/481\u001b[0m \u001b[32m━━━━━━━━━━━━━━━━━━━━\u001b[0m\u001b[37m\u001b[0m \u001b[1m0s\u001b[0m 407us/step - loss: 0.0670 - mae: 0.1944 - val_loss: 0.0462 - val_mae: 0.1600\n",
      "Epoch 48/100\n",
      "\u001b[1m481/481\u001b[0m \u001b[32m━━━━━━━━━━━━━━━━━━━━\u001b[0m\u001b[37m\u001b[0m \u001b[1m0s\u001b[0m 405us/step - loss: 0.0661 - mae: 0.1926 - val_loss: 0.0464 - val_mae: 0.1594\n",
      "Epoch 49/100\n",
      "\u001b[1m481/481\u001b[0m \u001b[32m━━━━━━━━━━━━━━━━━━━━\u001b[0m\u001b[37m\u001b[0m \u001b[1m0s\u001b[0m 408us/step - loss: 0.0682 - mae: 0.1937 - val_loss: 0.0448 - val_mae: 0.1573\n",
      "Epoch 50/100\n",
      "\u001b[1m481/481\u001b[0m \u001b[32m━━━━━━━━━━━━━━━━━━━━\u001b[0m\u001b[37m\u001b[0m \u001b[1m0s\u001b[0m 402us/step - loss: 0.0673 - mae: 0.1930 - val_loss: 0.0457 - val_mae: 0.1591\n",
      "Epoch 51/100\n",
      "\u001b[1m481/481\u001b[0m \u001b[32m━━━━━━━━━━━━━━━━━━━━\u001b[0m\u001b[37m\u001b[0m \u001b[1m0s\u001b[0m 406us/step - loss: 0.0658 - mae: 0.1926 - val_loss: 0.0454 - val_mae: 0.1574\n",
      "Epoch 52/100\n",
      "\u001b[1m481/481\u001b[0m \u001b[32m━━━━━━━━━━━━━━━━━━━━\u001b[0m\u001b[37m\u001b[0m \u001b[1m0s\u001b[0m 404us/step - loss: 0.0642 - mae: 0.1908 - val_loss: 0.0444 - val_mae: 0.1566\n",
      "Epoch 53/100\n",
      "\u001b[1m481/481\u001b[0m \u001b[32m━━━━━━━━━━━━━━━━━━━━\u001b[0m\u001b[37m\u001b[0m \u001b[1m0s\u001b[0m 455us/step - loss: 0.0682 - mae: 0.1938 - val_loss: 0.0462 - val_mae: 0.1584\n",
      "Epoch 54/100\n",
      "\u001b[1m481/481\u001b[0m \u001b[32m━━━━━━━━━━━━━━━━━━━━\u001b[0m\u001b[37m\u001b[0m \u001b[1m0s\u001b[0m 412us/step - loss: 0.0643 - mae: 0.1911 - val_loss: 0.0435 - val_mae: 0.1570\n",
      "Epoch 55/100\n",
      "\u001b[1m481/481\u001b[0m \u001b[32m━━━━━━━━━━━━━━━━━━━━\u001b[0m\u001b[37m\u001b[0m \u001b[1m0s\u001b[0m 478us/step - loss: 0.0657 - mae: 0.1913 - val_loss: 0.0451 - val_mae: 0.1565\n",
      "Epoch 56/100\n",
      "\u001b[1m481/481\u001b[0m \u001b[32m━━━━━━━━━━━━━━━━━━━━\u001b[0m\u001b[37m\u001b[0m \u001b[1m0s\u001b[0m 655us/step - loss: 0.0651 - mae: 0.1917 - val_loss: 0.0446 - val_mae: 0.1578\n",
      "Epoch 57/100\n",
      "\u001b[1m481/481\u001b[0m \u001b[32m━━━━━━━━━━━━━━━━━━━━\u001b[0m\u001b[37m\u001b[0m \u001b[1m0s\u001b[0m 425us/step - loss: 0.0661 - mae: 0.1914 - val_loss: 0.0435 - val_mae: 0.1552\n",
      "Epoch 58/100\n",
      "\u001b[1m481/481\u001b[0m \u001b[32m━━━━━━━━━━━━━━━━━━━━\u001b[0m\u001b[37m\u001b[0m \u001b[1m0s\u001b[0m 635us/step - loss: 0.0655 - mae: 0.1918 - val_loss: 0.0445 - val_mae: 0.1564\n",
      "Epoch 59/100\n",
      "\u001b[1m481/481\u001b[0m \u001b[32m━━━━━━━━━━━━━━━━━━━━\u001b[0m\u001b[37m\u001b[0m \u001b[1m0s\u001b[0m 634us/step - loss: 0.0637 - mae: 0.1900 - val_loss: 0.0441 - val_mae: 0.1549\n",
      "Epoch 60/100\n",
      "\u001b[1m481/481\u001b[0m \u001b[32m━━━━━━━━━━━━━━━━━━━━\u001b[0m\u001b[37m\u001b[0m \u001b[1m0s\u001b[0m 419us/step - loss: 0.0644 - mae: 0.1899 - val_loss: 0.0419 - val_mae: 0.1527\n",
      "Epoch 61/100\n",
      "\u001b[1m481/481\u001b[0m \u001b[32m━━━━━━━━━━━━━━━━━━━━\u001b[0m\u001b[37m\u001b[0m \u001b[1m0s\u001b[0m 403us/step - loss: 0.0640 - mae: 0.1903 - val_loss: 0.0426 - val_mae: 0.1538\n",
      "Epoch 62/100\n",
      "\u001b[1m481/481\u001b[0m \u001b[32m━━━━━━━━━━━━━━━━━━━━\u001b[0m\u001b[37m\u001b[0m \u001b[1m0s\u001b[0m 404us/step - loss: 0.0635 - mae: 0.1894 - val_loss: 0.0449 - val_mae: 0.1573\n",
      "Epoch 63/100\n",
      "\u001b[1m481/481\u001b[0m \u001b[32m━━━━━━━━━━━━━━━━━━━━\u001b[0m\u001b[37m\u001b[0m \u001b[1m0s\u001b[0m 414us/step - loss: 0.0651 - mae: 0.1908 - val_loss: 0.0434 - val_mae: 0.1557\n",
      "Epoch 64/100\n",
      "\u001b[1m481/481\u001b[0m \u001b[32m━━━━━━━━━━━━━━━━━━━━\u001b[0m\u001b[37m\u001b[0m \u001b[1m0s\u001b[0m 409us/step - loss: 0.0651 - mae: 0.1916 - val_loss: 0.0432 - val_mae: 0.1558\n",
      "Epoch 65/100\n",
      "\u001b[1m481/481\u001b[0m \u001b[32m━━━━━━━━━━━━━━━━━━━━\u001b[0m\u001b[37m\u001b[0m \u001b[1m0s\u001b[0m 402us/step - loss: 0.0641 - mae: 0.1890 - val_loss: 0.0431 - val_mae: 0.1531\n",
      "Epoch 66/100\n",
      "\u001b[1m481/481\u001b[0m \u001b[32m━━━━━━━━━━━━━━━━━━━━\u001b[0m\u001b[37m\u001b[0m \u001b[1m0s\u001b[0m 471us/step - loss: 0.0638 - mae: 0.1889 - val_loss: 0.0433 - val_mae: 0.1552\n",
      "Epoch 67/100\n",
      "\u001b[1m481/481\u001b[0m \u001b[32m━━━━━━━━━━━━━━━━━━━━\u001b[0m\u001b[37m\u001b[0m \u001b[1m0s\u001b[0m 395us/step - loss: 0.0637 - mae: 0.1897 - val_loss: 0.0430 - val_mae: 0.1553\n",
      "Epoch 68/100\n",
      "\u001b[1m481/481\u001b[0m \u001b[32m━━━━━━━━━━━━━━━━━━━━\u001b[0m\u001b[37m\u001b[0m \u001b[1m0s\u001b[0m 395us/step - loss: 0.0630 - mae: 0.1876 - val_loss: 0.0458 - val_mae: 0.1562\n",
      "Epoch 69/100\n",
      "\u001b[1m481/481\u001b[0m \u001b[32m━━━━━━━━━━━━━━━━━━━━\u001b[0m\u001b[37m\u001b[0m \u001b[1m0s\u001b[0m 408us/step - loss: 0.0627 - mae: 0.1873 - val_loss: 0.0443 - val_mae: 0.1548\n",
      "Epoch 70/100\n",
      "\u001b[1m481/481\u001b[0m \u001b[32m━━━━━━━━━━━━━━━━━━━━\u001b[0m\u001b[37m\u001b[0m \u001b[1m0s\u001b[0m 404us/step - loss: 0.0622 - mae: 0.1872 - val_loss: 0.0453 - val_mae: 0.1544\n",
      "Epoch 71/100\n",
      "\u001b[1m481/481\u001b[0m \u001b[32m━━━━━━━━━━━━━━━━━━━━\u001b[0m\u001b[37m\u001b[0m \u001b[1m0s\u001b[0m 397us/step - loss: 0.0634 - mae: 0.1874 - val_loss: 0.0408 - val_mae: 0.1506\n",
      "Epoch 72/100\n",
      "\u001b[1m481/481\u001b[0m \u001b[32m━━━━━━━━━━━━━━━━━━━━\u001b[0m\u001b[37m\u001b[0m \u001b[1m0s\u001b[0m 395us/step - loss: 0.0628 - mae: 0.1874 - val_loss: 0.0421 - val_mae: 0.1531\n",
      "Epoch 73/100\n",
      "\u001b[1m481/481\u001b[0m \u001b[32m━━━━━━━━━━━━━━━━━━━━\u001b[0m\u001b[37m\u001b[0m \u001b[1m0s\u001b[0m 399us/step - loss: 0.0631 - mae: 0.1876 - val_loss: 0.0431 - val_mae: 0.1547\n",
      "Epoch 74/100\n",
      "\u001b[1m481/481\u001b[0m \u001b[32m━━━━━━━━━━━━━━━━━━━━\u001b[0m\u001b[37m\u001b[0m \u001b[1m0s\u001b[0m 411us/step - loss: 0.0639 - mae: 0.1890 - val_loss: 0.0447 - val_mae: 0.1546\n",
      "Epoch 75/100\n",
      "\u001b[1m481/481\u001b[0m \u001b[32m━━━━━━━━━━━━━━━━━━━━\u001b[0m\u001b[37m\u001b[0m \u001b[1m0s\u001b[0m 424us/step - loss: 0.0631 - mae: 0.1875 - val_loss: 0.0391 - val_mae: 0.1486\n",
      "Epoch 76/100\n",
      "\u001b[1m481/481\u001b[0m \u001b[32m━━━━━━━━━━━━━━━━━━━━\u001b[0m\u001b[37m\u001b[0m \u001b[1m0s\u001b[0m 404us/step - loss: 0.0601 - mae: 0.1849 - val_loss: 0.0419 - val_mae: 0.1524\n",
      "Epoch 77/100\n",
      "\u001b[1m481/481\u001b[0m \u001b[32m━━━━━━━━━━━━━━━━━━━━\u001b[0m\u001b[37m\u001b[0m \u001b[1m0s\u001b[0m 472us/step - loss: 0.0619 - mae: 0.1863 - val_loss: 0.0424 - val_mae: 0.1516\n",
      "Epoch 78/100\n",
      "\u001b[1m481/481\u001b[0m \u001b[32m━━━━━━━━━━━━━━━━━━━━\u001b[0m\u001b[37m\u001b[0m \u001b[1m0s\u001b[0m 411us/step - loss: 0.0631 - mae: 0.1874 - val_loss: 0.0412 - val_mae: 0.1520\n",
      "Epoch 79/100\n",
      "\u001b[1m481/481\u001b[0m \u001b[32m━━━━━━━━━━━━━━━━━━━━\u001b[0m\u001b[37m\u001b[0m \u001b[1m0s\u001b[0m 402us/step - loss: 0.0618 - mae: 0.1857 - val_loss: 0.0417 - val_mae: 0.1492\n",
      "Epoch 80/100\n",
      "\u001b[1m481/481\u001b[0m \u001b[32m━━━━━━━━━━━━━━━━━━━━\u001b[0m\u001b[37m\u001b[0m \u001b[1m0s\u001b[0m 395us/step - loss: 0.0629 - mae: 0.1868 - val_loss: 0.0399 - val_mae: 0.1478\n",
      "Epoch 81/100\n",
      "\u001b[1m481/481\u001b[0m \u001b[32m━━━━━━━━━━━━━━━━━━━━\u001b[0m\u001b[37m\u001b[0m \u001b[1m0s\u001b[0m 394us/step - loss: 0.0624 - mae: 0.1864 - val_loss: 0.0413 - val_mae: 0.1517\n",
      "Epoch 82/100\n",
      "\u001b[1m481/481\u001b[0m \u001b[32m━━━━━━━━━━━━━━━━━━━━\u001b[0m\u001b[37m\u001b[0m \u001b[1m0s\u001b[0m 401us/step - loss: 0.0613 - mae: 0.1851 - val_loss: 0.0400 - val_mae: 0.1490\n",
      "Epoch 83/100\n",
      "\u001b[1m481/481\u001b[0m \u001b[32m━━━━━━━━━━━━━━━━━━━━\u001b[0m\u001b[37m\u001b[0m \u001b[1m0s\u001b[0m 404us/step - loss: 0.0616 - mae: 0.1855 - val_loss: 0.0396 - val_mae: 0.1492\n",
      "Epoch 84/100\n",
      "\u001b[1m481/481\u001b[0m \u001b[32m━━━━━━━━━━━━━━━━━━━━\u001b[0m\u001b[37m\u001b[0m \u001b[1m0s\u001b[0m 409us/step - loss: 0.0594 - mae: 0.1838 - val_loss: 0.0457 - val_mae: 0.1562\n",
      "Epoch 85/100\n",
      "\u001b[1m481/481\u001b[0m \u001b[32m━━━━━━━━━━━━━━━━━━━━\u001b[0m\u001b[37m\u001b[0m \u001b[1m0s\u001b[0m 416us/step - loss: 0.0615 - mae: 0.1855 - val_loss: 0.0409 - val_mae: 0.1495\n",
      "Epoch 86/100\n",
      "\u001b[1m481/481\u001b[0m \u001b[32m━━━━━━━━━━━━━━━━━━━━\u001b[0m\u001b[37m\u001b[0m \u001b[1m0s\u001b[0m 398us/step - loss: 0.0620 - mae: 0.1847 - val_loss: 0.0415 - val_mae: 0.1499\n",
      "Epoch 87/100\n",
      "\u001b[1m481/481\u001b[0m \u001b[32m━━━━━━━━━━━━━━━━━━━━\u001b[0m\u001b[37m\u001b[0m \u001b[1m0s\u001b[0m 405us/step - loss: 0.0603 - mae: 0.1850 - val_loss: 0.0405 - val_mae: 0.1493\n",
      "Epoch 88/100\n",
      "\u001b[1m481/481\u001b[0m \u001b[32m━━━━━━━━━━━━━━━━━━━━\u001b[0m\u001b[37m\u001b[0m \u001b[1m0s\u001b[0m 398us/step - loss: 0.0603 - mae: 0.1839 - val_loss: 0.0390 - val_mae: 0.1472\n",
      "Epoch 89/100\n",
      "\u001b[1m481/481\u001b[0m \u001b[32m━━━━━━━━━━━━━━━━━━━━\u001b[0m\u001b[37m\u001b[0m \u001b[1m0s\u001b[0m 400us/step - loss: 0.0616 - mae: 0.1845 - val_loss: 0.0399 - val_mae: 0.1494\n",
      "Epoch 90/100\n",
      "\u001b[1m481/481\u001b[0m \u001b[32m━━━━━━━━━━━━━━━━━━━━\u001b[0m\u001b[37m\u001b[0m \u001b[1m0s\u001b[0m 397us/step - loss: 0.0610 - mae: 0.1837 - val_loss: 0.0395 - val_mae: 0.1466\n",
      "Epoch 91/100\n",
      "\u001b[1m481/481\u001b[0m \u001b[32m━━━━━━━━━━━━━━━━━━━━\u001b[0m\u001b[37m\u001b[0m \u001b[1m0s\u001b[0m 409us/step - loss: 0.0597 - mae: 0.1835 - val_loss: 0.0389 - val_mae: 0.1463\n",
      "Epoch 92/100\n",
      "\u001b[1m481/481\u001b[0m \u001b[32m━━━━━━━━━━━━━━━━━━━━\u001b[0m\u001b[37m\u001b[0m \u001b[1m0s\u001b[0m 404us/step - loss: 0.0595 - mae: 0.1824 - val_loss: 0.0396 - val_mae: 0.1485\n",
      "Epoch 93/100\n",
      "\u001b[1m481/481\u001b[0m \u001b[32m━━━━━━━━━━━━━━━━━━━━\u001b[0m\u001b[37m\u001b[0m \u001b[1m0s\u001b[0m 399us/step - loss: 0.0590 - mae: 0.1817 - val_loss: 0.0397 - val_mae: 0.1491\n",
      "Epoch 94/100\n",
      "\u001b[1m481/481\u001b[0m \u001b[32m━━━━━━━━━━━━━━━━━━━━\u001b[0m\u001b[37m\u001b[0m \u001b[1m0s\u001b[0m 402us/step - loss: 0.0600 - mae: 0.1836 - val_loss: 0.0388 - val_mae: 0.1467\n",
      "Epoch 95/100\n",
      "\u001b[1m481/481\u001b[0m \u001b[32m━━━━━━━━━━━━━━━━━━━━\u001b[0m\u001b[37m\u001b[0m \u001b[1m0s\u001b[0m 402us/step - loss: 0.0603 - mae: 0.1834 - val_loss: 0.0394 - val_mae: 0.1484\n",
      "Epoch 96/100\n",
      "\u001b[1m481/481\u001b[0m \u001b[32m━━━━━━━━━━━━━━━━━━━━\u001b[0m\u001b[37m\u001b[0m \u001b[1m0s\u001b[0m 405us/step - loss: 0.0595 - mae: 0.1827 - val_loss: 0.0423 - val_mae: 0.1531\n",
      "Epoch 97/100\n",
      "\u001b[1m481/481\u001b[0m \u001b[32m━━━━━━━━━━━━━━━━━━━━\u001b[0m\u001b[37m\u001b[0m \u001b[1m0s\u001b[0m 463us/step - loss: 0.0596 - mae: 0.1829 - val_loss: 0.0384 - val_mae: 0.1458\n",
      "Epoch 98/100\n",
      "\u001b[1m481/481\u001b[0m \u001b[32m━━━━━━━━━━━━━━━━━━━━\u001b[0m\u001b[37m\u001b[0m \u001b[1m0s\u001b[0m 635us/step - loss: 0.0582 - mae: 0.1814 - val_loss: 0.0374 - val_mae: 0.1435\n",
      "Epoch 99/100\n",
      "\u001b[1m481/481\u001b[0m \u001b[32m━━━━━━━━━━━━━━━━━━━━\u001b[0m\u001b[37m\u001b[0m \u001b[1m0s\u001b[0m 529us/step - loss: 0.0599 - mae: 0.1832 - val_loss: 0.0392 - val_mae: 0.1469\n",
      "Epoch 100/100\n",
      "\u001b[1m481/481\u001b[0m \u001b[32m━━━━━━━━━━━━━━━━━━━━\u001b[0m\u001b[37m\u001b[0m \u001b[1m0s\u001b[0m 482us/step - loss: 0.0607 - mae: 0.1833 - val_loss: 0.0378 - val_mae: 0.1445\n"
     ]
    }
   ],
   "source": [
    "\n",
    "\n",
    "# Train the model\n",
    "history = model.fit(\n",
    "    X_train_scaled, y_train_scaled,  # Training data\n",
    "    epochs=100,                      # Maximum number of epochs to train\n",
    "    batch_size=32,                   # Number of samples per gradient update\n",
    "    validation_split=0.2,            # Use 20% of training data for validation\n",
    "    verbose=1                        # Show progress\n",
    ")"
   ]
  },
  {
   "cell_type": "markdown",
   "id": "d4a0531fb36d088d",
   "metadata": {},
   "source": [
    "### Analyze the training history"
   ]
  },
  {
   "cell_type": "code",
   "execution_count": 17,
   "id": "f16ba2c47b87e5f6",
   "metadata": {
    "ExecuteTime": {
     "end_time": "2025-04-10T10:34:13.241465Z",
     "start_time": "2025-04-10T10:34:12.840222Z"
    }
   },
   "outputs": [
    {
     "data": {
      "image/png": "[encoded data removed]",
      "text/plain": [
       "<Figure size 1200x400 with 2 Axes>"
      ]
     },
     "metadata": {},
     "output_type": "display_data"
    }
   ],
   "source": [
    "# Plot the loss curves\n",
    "plt.figure(figsize=(12, 4))\n",
    "\n",
    "# Plot loss\n",
    "plt.subplot(1, 2, 1)\n",
    "plt.plot(history.history['loss'], label='Training Loss')\n",
    "plt.plot(history.history['val_loss'], label='Validation Loss')\n",
    "plt.title('Model Loss')\n",
    "plt.ylabel('Loss (MSE)')\n",
    "plt.xlabel('Epoch')\n",
    "plt.legend()\n",
    "\n",
    "# Plot MAE\n",
    "plt.subplot(1, 2, 2)\n",
    "plt.plot(history.history['mae'], label='Training MAE')\n",
    "plt.plot(history.history['val_mae'], label='Validation MAE')\n",
    "plt.title('Model Mean Absolute Error')\n",
    "plt.ylabel('MAE')\n",
    "plt.xlabel('Epoch')\n",
    "plt.legend()\n",
    "\n",
    "plt.tight_layout()\n",
    "plt.show()"
   ]
  },
  {
   "cell_type": "markdown",
   "id": "9ffba1135d642a2",
   "metadata": {},
   "source": [
    "### Evaluating the model"
   ]
  },
  {
   "cell_type": "code",
   "execution_count": 18,
   "id": "116c06ae2d3ce1ea",
   "metadata": {
    "ExecuteTime": {
     "end_time": "2025-04-10T10:36:48.826999Z",
     "start_time": "2025-04-10T10:36:48.723478Z"
    }
   },
   "outputs": [
    {
     "name": "stdout",
     "output_type": "stream",
     "text": [
      "\u001b[1m151/151\u001b[0m \u001b[32m━━━━━━━━━━━━━━━━━━━━\u001b[0m\u001b[37m\u001b[0m \u001b[1m0s\u001b[0m 373us/step - loss: 0.0346 - mae: 0.1402\n",
      "Test Loss (MSE): 0.0347\n",
      "Test MAE: 0.1401\n"
     ]
    }
   ],
   "source": [
    "# Evaluate on test data\n",
    "test_loss, test_mae = model.evaluate(X_test_scaled, y_test_scaled, verbose=1)\n",
    "print(f\"Test Loss (MSE): {test_loss:.4f}\")\n",
    "print(f\"Test MAE: {test_mae:.4f}\")"
   ]
  },
  {
   "cell_type": "markdown",
   "id": "8a8987507a3eeac8",
   "metadata": {},
   "source": [
    "### Predictions"
   ]
  },
  {
   "cell_type": "code",
   "execution_count": 19,
   "id": "ba46c0135c0aa96e",
   "metadata": {
    "ExecuteTime": {
     "end_time": "2025-04-10T10:37:53.460806Z",
     "start_time": "2025-04-10T10:37:53.344975Z"
    }
   },
   "outputs": [
    {
     "name": "stdout",
     "output_type": "stream",
     "text": [
      "\u001b[1m151/151\u001b[0m \u001b[32m━━━━━━━━━━━━━━━━━━━━\u001b[0m\u001b[37m\u001b[0m \u001b[1m0s\u001b[0m 253us/step\n",
      "head: 0.0140\n",
      "left_shoulder: 0.0110\n",
      "left_elbow: 0.0155\n",
      "right_shoulder: 0.0109\n",
      "right_elbow: 0.0155\n",
      "left_hand: 0.0210\n",
      "right_hand: 0.0214\n",
      "left_hip: 0.0131\n",
      "right_hip: 0.0131\n",
      "left_knee: 0.0125\n",
      "right_knee: 0.0131\n",
      "left_foot: 0.0105\n",
      "right_foot: 0.0107\n",
      "Overall average error: 0.0140\n"
     ]
    }
   ],
   "source": [
    "# Make predictions on test data\n",
    "predictions_scaled = model.predict(X_test_scaled)\n",
    "\n",
    "# Transform predictions back to original scale\n",
    "predictions = scaler_y.inverse_transform(predictions_scaled)\n",
    "y_test_original = scaler_y.inverse_transform(y_test_scaled)\n",
    "\n",
    "# Calculate error for each joint (each z coordinate)\n",
    "joint_errors = np.mean(np.abs(predictions - y_test_original), axis=0)\n",
    "\n",
    "# Display average error for each joint\n",
    "for i, joint_name in enumerate([col.replace('_z', '') for col in z_columns]):\n",
    "    print(f\"{joint_name}: {joint_errors[i]:.4f}\")\n",
    "\n",
    "# Calculate overall average error\n",
    "print(f\"Overall average error: {np.mean(joint_errors):.4f}\")"
   ]
  },
  {
   "cell_type": "markdown",
   "id": "ed1a4564c8bdc691",
   "metadata": {},
   "source": [
    "### Visualize these errors"
   ]
  },
  {
   "cell_type": "code",
   "execution_count": 20,
   "id": "21f1c564c0280c65",
   "metadata": {
    "ExecuteTime": {
     "end_time": "2025-04-10T10:39:33.703939Z",
     "start_time": "2025-04-10T10:39:33.629838Z"
    }
   },
   "outputs": [
    {
     "data": {
      "image/png": "[encoded data removed]",
      "text/plain": [
       "<Figure size 1200x600 with 1 Axes>"
      ]
     },
     "metadata": {},
     "output_type": "display_data"
    }
   ],
   "source": [
    "# Visualize errors by joint\n",
    "plt.figure(figsize=(12, 6))\n",
    "joint_names = [col.replace('_z', '') for col in z_columns]\n",
    "plt.bar(joint_names, joint_errors)\n",
    "plt.title('Average Error by Joint')\n",
    "plt.ylabel('Mean Absolute Error (distance units)')\n",
    "plt.xlabel('Joint')\n",
    "plt.xticks(rotation=45)\n",
    "plt.tight_layout()\n",
    "plt.show()"
   ]
  }
 ],
 "metadata": {
  "kernelspec": {
   "display_name": "venv",
   "language": "python",
   "name": "venv"
  },
  "language_info": {
   "codemirror_mode": {
    "name": "ipython",
    "version": 2
   },
   "file_extension": ".py",
   "mimetype": "text/x-python",
   "name": "python",
   "nbconvert_exporter": "python",
   "pygments_lexer": "ipython2",
   "version": "3.13.2"
  }
 },
 "nbformat": 4,
 "nbformat_minor": 5
}
